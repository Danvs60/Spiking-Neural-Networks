{
 "cells": [
  {
   "cell_type": "code",
   "execution_count": 1,
   "metadata": {},
   "outputs": [
    {
     "data": {
      "text/plain": [
       "'/opt/app-root/src'"
      ]
     },
     "execution_count": 1,
     "metadata": {},
     "output_type": "execute_result"
    }
   ],
   "source": [
    "import numpy as np\n",
    "import matplotlib.pyplot as plt\n",
    "import seaborn as sns\n",
    "sns.set()"
   ]
  },
  {
   "cell_type": "code",
   "execution_count": 17,
   "metadata": {},
   "outputs": [],
   "source": [
    "def plot_volt_trace(pars, v, sp):\n",
    "    \"\"\"\n",
    "    Plot trajetory of membrane potential for a single neuron\n",
    "\n",
    "    Expects:\n",
    "    pars   : parameter dictionary\n",
    "    v      : volt trajetory\n",
    "    sp     : spike train\n",
    "\n",
    "    Returns:\n",
    "    figure of the membrane potential trajetory for a single neuron\n",
    "    \"\"\"\n",
    "\n",
    "    V_th = pars['V_th']\n",
    "    dt, range_t = pars['dt'], pars['range_t']\n",
    "    if sp.size:\n",
    "        sp_num = (sp / dt).astype(int) - 1\n",
    "        v[sp_num] += 20  # draw nicer spikes\n",
    "\n",
    "    plt.plot(pars['range_t'], v)\n",
    "    plt.axhline(V_th, 0, 1, color='k', ls='--')\n",
    "    plt.xlabel('Time (ms)')\n",
    "    plt.ylabel('V (mV)')\n",
    "    plt.legend(['Membrane\\npotential', r'Threshold V$_{\\mathrm{th}}$'],\n",
    "               loc=[1.05, 0.75])\n",
    "    plt.ylim([-80, -40])\n"
   ]
  },
  {
   "cell_type": "code",
   "execution_count": 26,
   "metadata": {},
   "outputs": [],
   "source": [
    "def default_pars(**kwargs):\n",
    "    pars = {}\n",
    "\n",
    "    pars['V_th'] = -55.     # spike threshold [mV]\n",
    "    pars['V_reset'] = -75.  # reset potential [mV]\n",
    "    pars['tau_m'] = 10.     # membrane time constant [ms]\n",
    "    pars['g_L'] = 10.       # leak conductance [nS]\n",
    "    pars['V_init'] = -75.   # initial potential [mV]\n",
    "    pars['E_L'] = -75.      # leak reversal potential [mV]\n",
    "    pars['tref'] = 2.       # refractory time (ms)\n",
    "\n",
    "    # simulation parameters\n",
    "    pars['T'] = 400.  # Total duration of simulation [ms]\n",
    "    pars['dt'] = .1  # Simulation time step [ms]\n",
    "\n",
    "    # external parameters if any\n",
    "    for k in kwargs:\n",
    "        pars[k] = kwargs[k]\n",
    "\n",
    "    # Vector of discretized time points [ms]\n",
    "    pars['range_t'] = np.arange(0, pars['T'], pars['dt'])\n",
    "\n",
    "    return pars\n"
   ]
  },
  {
   "cell_type": "code",
   "execution_count": 27,
   "metadata": {},
   "outputs": [],
   "source": [
    "def simulate_LIF(pars: list, I_inj: float):\n",
    "    \"\"\"Simulate LIF dynamics with an external input current.\n",
    "\n",
    "    Args:\n",
    "        pars (list): dictionary of neuron and synapse parameters\n",
    "        I_inj (float): Input current.\n",
    "\n",
    "    Returns:\n",
    "        rec_v: membrane potential\n",
    "        rec_sp: spike times\n",
    "    \"\"\"\n",
    "\n",
    "    # Set parameters\n",
    "    Lt = pars['range_t'].size  # time steps\n",
    "\n",
    "    # Initialize voltage\n",
    "    v = np.zeros(Lt)\n",
    "    v[0] = pars['V_init']\n",
    "\n",
    "    # Set current time course\n",
    "    I_inj = I_inj * np.ones(Lt)\n",
    "\n",
    "    # Loop over time\n",
    "    rec_spikes = []\n",
    "    tref = 0.  # refractory counter\n",
    "\n",
    "    for it in range(Lt - 1):\n",
    "        if tref > 0:  # in refractory period\n",
    "            v[it] = pars['V_reset']\n",
    "            tref -= 1\n",
    "        elif v[it] >= pars['V_th']:  # over threshold\n",
    "            rec_spikes.append(it)\n",
    "            v[it] = pars['V_reset']\n",
    "            tref = pars['tref'] / pars['dt']\n",
    "\n",
    "        # Increment in voltage\n",
    "        dv = (-(v[it] - pars['E_L']) + I_inj[it] /\n",
    "              pars['g_L']) * (pars['dt'] / pars['tau_m'])\n",
    "\n",
    "        # Update Vm\n",
    "        v[it + 1] = v[it] + dv\n",
    "\n",
    "    rec_spikes = np.array(rec_spikes) * pars['dt']\n",
    "\n",
    "    return v, rec_spikes\n"
   ]
  },
  {
   "cell_type": "code",
   "execution_count": 42,
   "metadata": {},
   "outputs": [
    {
     "data": {
      "image/png": "[encoded data removed]",
      "text/plain": [
       "<Figure size 640x480 with 1 Axes>"
      ]
     },
     "metadata": {},
     "output_type": "display_data"
    }
   ],
   "source": [
    "# Get parameters\n",
    "pars = default_pars(T=500)\n",
    "\n",
    "# Simulate LIF model\n",
    "v, sp = simulate_LIF(pars, I_inj=600)\n",
    "\n",
    "# Plot neuron\n",
    "plot_volt_trace(pars, v, sp)\n"
   ]
  }
 ],
 "metadata": {
  "kernelspec": {
   "display_name": "Python 3 (ipykernel)",
   "language": "python",
   "name": "python3"
  },
  "language_info": {
   "codemirror_mode": {
    "name": "ipython",
    "version": 3
   },
   "file_extension": ".py",
   "mimetype": "text/x-python",
   "name": "python",
   "nbconvert_exporter": "python",
   "pygments_lexer": "ipython3",
   "version": "3.8.10"
  },
  "orig_nbformat": 4,
  "vscode": {
   "interpreter": {
    "hash": "0f2f6c680cf484319d387fabac80ca4ff4fc33965036e02100b3fe02600f1423"
   }
  }
 },
 "nbformat": 4,
 "nbformat_minor": 2
}
